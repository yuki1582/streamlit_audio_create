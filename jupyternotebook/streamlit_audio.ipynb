{
 "cells": [
  {
   "cell_type": "code",
   "execution_count": 19,
   "id": "7d5b29c6-1a8a-48ad-9405-0d29a1083215",
   "metadata": {},
   "outputs": [],
   "source": [
    "import os"
   ]
  },
  {
   "cell_type": "code",
   "execution_count": 25,
   "id": "429b0b23-9a20-4e7a-8771-c42856b69f2e",
   "metadata": {},
   "outputs": [],
   "source": [
    "os.environ['GOOGLE_APPLICATION_CREDENTIALS'] = 'secret.json'"
   ]
  },
  {
   "cell_type": "code",
   "execution_count": 76,
   "id": "1c16720d-3eda-4f19-85a1-e162ea327bd2",
   "metadata": {
    "tags": []
   },
   "outputs": [],
   "source": [
    "#ライブラリの読み込み\n",
    "from google.cloud import texttospeech \n",
    "\n",
    "#APIのクライアントをインスタンス化\n",
    "client = texttospeech.TextToSpeechClient()\n",
    "\n",
    "#音声ファイルを生成するためのテキストを用意\n",
    "synthesis_input = texttospeech.SynthesisInput(text=\"こんにちは、私はプログラミングを学んでいるWebエンジニアです\")\n",
    "\n",
    "#パラメータの設定\n",
    "voice = texttospeech.VoiceSelectionParams(\n",
    "    language_code=\"ja-JP\", ssml_gender=texttospeech.SsmlVoiceGender.FEMALE\n",
    ")\n",
    "#生成する音声の設定\n",
    "audio_config = texttospeech.AudioConfig(\n",
    "    audio_encoding=texttospeech.AudioEncoding.MP3\n",
    ")\n",
    "#APIを叩いた結果をresponseに格納\n",
    "response = client.synthesize_speech(\n",
    "    input=synthesis_input, voice=voice, audio_config=audio_config #引数\n",
    ")\n",
    "\n",
    "# filename =\"output.mp3\" \n",
    "# with open(filename, \"wb\") as out:\n",
    "#     out.write(response.audio_content)\n",
    "#     print(f'音声データは{filename}ファイルに書き出しました')"
   ]
  },
  {
   "cell_type": "code",
   "execution_count": 77,
   "id": "0b6311db-9ead-4f11-bd44-711cca0442fb",
   "metadata": {},
   "outputs": [
    {
     "data": {
      "text/html": [
       "\n",
       "                <audio  controls=\"controls\" >\n",
       "                    <source src=\"data:audio/wav;base64,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\" type=\"audio/wav\" />\n",
       "                    Your browser does not support the audio element.\n",
       "                </audio>\n",
       "              "
      ],
      "text/plain": [
       "<IPython.lib.display.Audio object>"
      ]
     },
     "execution_count": 77,
     "metadata": {},
     "output_type": "execute_result"
    }
   ],
   "source": [
    "from IPython.display import Audio\n",
    "Audio(response.audio_content)"
   ]
  },
  {
   "cell_type": "code",
   "execution_count": null,
   "id": "4d3de393-678e-4df9-90d0-a209487b93c1",
   "metadata": {},
   "outputs": [],
   "source": [
    "#ライブラリの読み込み\n",
    "from google.cloud import texttospeech "
   ]
  },
  {
   "cell_type": "code",
   "execution_count": 92,
   "id": "ed9ebc47-f1d9-443c-bf89-f3d845d19b8f",
   "metadata": {},
   "outputs": [],
   "source": [
    "def synthesize_speech(text, lang='日本語', gender='default'):\n",
    "    gender_type = {\n",
    "        'default':texttospeech.SsmlVoiceGender.SSML_VOICE_GENDER_UNSPECIFIED,\n",
    "        'male': texttospeech.SsmlVoiceGender.MALE,\n",
    "        'female': texttospeech.SsmlVoiceGender.FEMALE,\n",
    "        'neutral': texttospeech.SsmlVoiceGender.NEUTRAL\n",
    "    }\n",
    "    lang_code = {\n",
    "        '英語': 'en-US', \n",
    "        '日本語': 'ja-JP'\n",
    "    }\n",
    "\n",
    "    #APIのクライアントをインスタンス化\n",
    "    client = texttospeech.TextToSpeechClient()\n",
    "\n",
    "    #音声ファイルを生成するためのテキストを用意\n",
    "    synthesis_input = texttospeech.SynthesisInput(text=text)\n",
    "\n",
    "    #パラメータの設定\n",
    "    voice = texttospeech.VoiceSelectionParams(\n",
    "        language_code=lang_code[lang], ssml_gender=gender_type[gender]\n",
    "    )\n",
    "    #生成する音声の設定\n",
    "    audio_config = texttospeech.AudioConfig(\n",
    "        audio_encoding=texttospeech.AudioEncoding.MP3\n",
    "    )\n",
    "    #APIを叩いた結果をresponseに格納\n",
    "    response = client.synthesize_speech(\n",
    "        input=synthesis_input, voice=voice, audio_config=audio_config #引数\n",
    "    )\n",
    "    return response"
   ]
  },
  {
   "cell_type": "code",
   "execution_count": 96,
   "id": "9324399c-05bb-48c6-86f0-209120a33feb",
   "metadata": {
    "tags": []
   },
   "outputs": [
    {
     "data": {
      "text/html": [
       "\n",
       "                <audio  controls=\"controls\" >\n",
       "                    <source src=\"data:audio/wav;base64,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\" type=\"audio/wav\" />\n",
       "                    Your browser does not support the audio element.\n",
       "                </audio>\n",
       "              "
      ],
      "text/plain": [
       "<IPython.lib.display.Audio object>"
      ]
     },
     "execution_count": 96,
     "metadata": {},
     "output_type": "execute_result"
    }
   ],
   "source": [
    "lang = '英語'\n",
    "gender = 'default'\n",
    "text = \"This is a sample code.\"\n",
    "\n",
    "response = synthesize_speech(text, lang, gender='male')\n",
    "Audio(response.audio_content)"
   ]
  },
  {
   "cell_type": "code",
   "execution_count": null,
   "id": "df2608ef-2877-4292-986b-ca7c0d7f0d30",
   "metadata": {},
   "outputs": [],
   "source": []
  },
  {
   "cell_type": "code",
   "execution_count": null,
   "id": "5c18ddeb-c3be-48dc-9818-60fc0af327bd",
   "metadata": {},
   "outputs": [],
   "source": []
  },
  {
   "cell_type": "code",
   "execution_count": null,
   "id": "f757c090-2558-4da1-88af-e4780606cd1f",
   "metadata": {},
   "outputs": [],
   "source": []
  },
  {
   "cell_type": "code",
   "execution_count": null,
   "id": "a3b4b0fe-ede0-49ff-9e5b-d5bbbfea29b5",
   "metadata": {},
   "outputs": [],
   "source": []
  },
  {
   "cell_type": "code",
   "execution_count": null,
   "id": "75382eb8-b2b3-4f8d-a9e3-6c4939f6aa52",
   "metadata": {},
   "outputs": [],
   "source": []
  },
  {
   "cell_type": "code",
   "execution_count": null,
   "id": "907c8fa0-d3b7-4698-9fe1-8cf680494e96",
   "metadata": {},
   "outputs": [],
   "source": []
  },
  {
   "cell_type": "code",
   "execution_count": null,
   "id": "e7053f3a-1c01-4985-9126-6cd8ff1f69b2",
   "metadata": {},
   "outputs": [],
   "source": []
  },
  {
   "cell_type": "code",
   "execution_count": null,
   "id": "ae0f667c-54c1-4f7f-8acb-24d96735766c",
   "metadata": {},
   "outputs": [],
   "source": []
  }
 ],
 "metadata": {
  "kernelspec": {
   "display_name": "Python 3 (ipykernel)",
   "language": "python",
   "name": "python3"
  },
  "language_info": {
   "codemirror_mode": {
    "name": "ipython",
    "version": 3
   },
   "file_extension": ".py",
   "mimetype": "text/x-python",
   "name": "python",
   "nbconvert_exporter": "python",
   "pygments_lexer": "ipython3",
   "version": "3.9.12"
  }
 },
 "nbformat": 4,
 "nbformat_minor": 5
}
